{
 "cells": [
  {
   "cell_type": "markdown",
   "metadata": {},
   "source": [
    "# Submission"
   ]
  },
  {
   "cell_type": "code",
   "execution_count": 111,
   "metadata": {},
   "outputs": [
    {
     "name": "stdout",
     "output_type": "stream",
     "text": [
      "tasfia's co-var function: \n",
      " [[13.          1.5        -3.5        -8.         -7.        ]\n",
      " [ 1.5         0.33333333 -1.33333333  0.16666667 -1.        ]\n",
      " [-3.5        -1.33333333  6.33333333 -4.16666667  3.        ]\n",
      " [-8.          0.16666667 -4.16666667 12.33333333  3.        ]\n",
      " [-7.         -1.          3.          3.          4.        ]]\n",
      "\n",
      "numpy's co-var function: \n",
      " [[13.          1.5        -3.5        -8.         -7.        ]\n",
      " [ 1.5         0.33333333 -1.33333333  0.16666667 -1.        ]\n",
      " [-3.5        -1.33333333  6.33333333 -4.16666667  3.        ]\n",
      " [-8.          0.16666667 -4.16666667 12.33333333  3.        ]\n",
      " [-7.         -1.          3.          3.          4.        ]]\n"
     ]
    }
   ],
   "source": [
    "import pandas as pd\n",
    "import numpy as np\n",
    "\n",
    "def covariance(list_1, list_2):\n",
    "    try:\n",
    "        assert len(list_1) == len(list_2)\n",
    "    except:\n",
    "        print('Lists are not of the same length')\n",
    "        \n",
    "    n = len(list_1) - 1\n",
    "    sample_mean_1 = np.mean(list_1)\n",
    "    sample_mean_2 = np.mean(list_2)\n",
    "    \n",
    "    sum_ = 0\n",
    "    for index in range(n+1):\n",
    "        sum_ += (list_1[index] - sample_mean_1) * (list_2[index] - sample_mean_2)\n",
    "    return (1/n) * sum_\n",
    "\n",
    "'''\n",
    "output should look like\n",
    "     0   1   2\n",
    "0 [[xx, xy, xz],\n",
    "1 [ yx, yy, yz],\n",
    "2 [ zx, zy, zz]]\n",
    "'''\n",
    "def covariance_matrix(matrix):\n",
    "    list_matrix = matrix.T\n",
    "    len_matrix = len(list_matrix)\n",
    "    covar_matrix = []\n",
    "\n",
    "    for row in range(len_matrix):\n",
    "        covar_matrix.append([])\n",
    "        for col in range(len_matrix):\n",
    "            covar_matrix[row].append(covariance(list_matrix[row], list_matrix[col]))\n",
    "    \n",
    "    return np.array(covar_matrix)\n",
    "\n",
    "# test function\n",
    "def cov_matrix_calculation(data):\n",
    "    # calculate covariance matrix of the data\n",
    "    cov_matx = np.cov(data.T)\n",
    "    return cov_matx\n",
    "\n",
    "dataset = np.array([\n",
    "   # x, y, z\n",
    "    [1, 1, 1],\n",
    "    [1, 2, 1],\n",
    "    [1, 3, 2],\n",
    "    [1, 4, 3]]\n",
    ")\n",
    "\n",
    "dataset_1 = np.array([\n",
    "    [3, 5, 2, 7, 4],\n",
    "    [1, 4, 7, 3, 6],\n",
    "    [8, 5, 4, 0, 2]\n",
    "])\n",
    "\n",
    "print(\"tasfia's co-var function: \\n\", covariance_matrix(dataset_1))\n",
    "print()\n",
    "print(\"numpy's co-var function: \\n\", cov_matrix_calculation(dataset_1))"
   ]
  },
  {
   "cell_type": "code",
   "execution_count": 113,
   "metadata": {},
   "outputs": [
    {
     "name": "stdout",
     "output_type": "stream",
     "text": [
      "[[ 1.13540563e+01  1.39471307e+01  9.21453818e+00 -4.39004101e+00\n",
      "  -2.85552307e+01  4.69774181e-01 -3.74259714e-02  2.15706198e+01\n",
      "   3.56618047e-01]\n",
      " [ 1.39471307e+01  1.02224831e+03  9.44309556e+01  2.92391827e+01\n",
      "   1.22093580e+03  5.57269867e+01  1.45487481e+00  9.90828054e+01\n",
      "   7.11507904e+00]\n",
      " [ 9.21453818e+00  9.44309556e+01  3.74647271e+02  6.40293962e+01\n",
      "   1.98378412e+02  4.30046951e+01  2.64637574e-01  5.45234528e+01\n",
      "   6.00696708e-01]\n",
      " [-4.39004101e+00  2.92391827e+01  6.40293962e+01  2.54473245e+02\n",
      "   8.02979941e+02  4.93738694e+01  9.72135546e-01 -2.13810232e+01\n",
      "   5.68747284e-01]\n",
      " [-2.85552307e+01  1.22093580e+03  1.98378412e+02  8.02979941e+02\n",
      "   1.32811801e+04  1.79775172e+02  7.06668051e+00 -5.71432903e+01\n",
      "   7.17567090e+00]\n",
      " [ 4.69774181e-01  5.57269867e+01  4.30046951e+01  4.93738694e+01\n",
      "   1.79775172e+02  6.21599840e+01  3.67404687e-01  3.36032992e+00\n",
      "   1.10063763e+00]\n",
      " [-3.74259714e-02  1.45487481e+00  2.64637574e-01  9.72135546e-01\n",
      "   7.06668051e+00  3.67404687e-01  1.09778638e-01  1.30771687e-01\n",
      "   2.74721656e-02]\n",
      " [ 2.15706198e+01  9.90828054e+01  5.45234528e+01 -2.13810232e+01\n",
      "  -5.71432903e+01  3.36032992e+00  1.30771687e-01  1.38303046e+02\n",
      "   1.33695268e+00]\n",
      " [ 3.56618047e-01  7.11507904e+00  6.00696708e-01  5.68747284e-01\n",
      "   7.17567090e+00  1.10063763e+00  2.74721656e-02  1.33695268e+00\n",
      "   2.27482616e-01]]\n"
     ]
    }
   ],
   "source": [
    "# real world data\n",
    "df = pd.read_csv('data/kaggle_pima_indians_diabetes.csv')\n",
    "# print(covariance_matrix(np.array(df)))\n",
    "# print(cov_matrix_calculation(df))"
   ]
  },
  {
   "cell_type": "markdown",
   "metadata": {},
   "source": [
    "# HW 1 - Covariance Matrix\n",
    "\n",
    "**Covariance** is used to measure how two random variables change or vary together. For example, the height and weight of giraffes have a positive covariance because when one is big, the other tends to also be big.\n",
    "\n",
    "_In this assignment, we will calculate the **covariance matrix** for a given dataset._\n",
    "\n",
    "This assignment will consist of two parts:\n",
    "\n",
    "## Part 1\n",
    "\n",
    "**IMPORTANT NOTE:** in the video, the equation he uses has $n$ as the denominator, but when he calculates covariance values, he's using $n-1$ as the denominator. _For our purposes, we will be using $n-1$ as the denominator._\n",
    "\n",
    "Watch this video on covariance matrices: https://www.youtube.com/watch?v=0GzMcUy7ZI0\n",
    "\n",
    "Mathematically, we can represent Covariance as such:\n",
    "\n",
    "$Cov(X,Y)=1/(n-1) \\sum_{i=1}^{n}(x[i] - \\bar{x})(y[i] - \\bar{y})$\n",
    "\n",
    "Where $n$ is the number of elements in arrays $x$ and $y$\n",
    "\n",
    "## Part 2\n",
    "\n",
    "Write a Python function that returns the covariance matrix for a given dataset, just like we watched in the video or any other dataset of your choosing. Below are various places you can get datasets from:\n",
    "\n",
    "### Dataset Resources\n",
    "\n",
    "- [Kaggle](https://www.kaggle.com/datasets)\n",
    "- [Fivethirtyeight](https://github.com/fivethirtyeight/data)\n",
    "- [Buzzfeed News](https://github.com/BuzzFeedNews/everything)\n",
    "- [Google Cloud BigQuery Public Datasets](https://cloud.google.com/bigquery/public-data/)\n",
    "- [Wikipedia](https://en.wikipedia.org/wiki/Wikipedia:Database_download)\n",
    "- Can't find anything from above? Google around until you do!\n",
    "\n",
    "## Part 3\n",
    "\n",
    "Use [numpy's var function](https://docs.scipy.org/doc/numpy/reference/generated/numpy.var.html) to confirm that the covariance between a variable and itself is the same as the variance of the variable.\n",
    "\n",
    "For example, assuming your covariance function is named `cov`, ensure that the following is true: `cov(X, X) == np.var(X)`\n",
    "\n",
    "### Hints\n",
    "\n",
    "1. Obtain the covariance between columns $x$ and $y$, between columns $x$ and $z$, and columns $y$ and $z$\n",
    "1. The covariance between columns $x$ and $y$ is the same as the covariance between columns $y$ and $x$. _We can generalize this for any two columns_\n",
    "1. Show that the covariance between columns $x$ and $x$ is equal to the variance of column $x$. _We can generalize this for any other column_\n",
    "\n",
    "## Testing Your Code\n",
    "\n",
    "Verify your code with numpy built-in `np.cov()` function as follows:"
   ]
  },
  {
   "cell_type": "code",
   "execution_count": 35,
   "metadata": {},
   "outputs": [
    {
     "name": "stdout",
     "output_type": "stream",
     "text": [
      "[[0.         0.         0.        ]\n",
      " [0.         1.66666667 1.16666667]\n",
      " [0.         1.16666667 0.91666667]]\n"
     ]
    }
   ],
   "source": [
    "import numpy as np\n",
    "\n",
    "def cov_matrix_calculation(data):\n",
    "    # calculate covariance matrix of the data\n",
    "    cov_matx = np.cov(data.T)\n",
    "    return cov_matx\n",
    "\n",
    "dataset = np.array([\n",
    "    [1, 1, 1], \n",
    "    [1, 2, 1], \n",
    "    [1, 3, 2], \n",
    "    [1, 4, 3]])\n",
    "print(cov_matrix_calculation(dataset))"
   ]
  },
  {
   "cell_type": "markdown",
   "metadata": {},
   "source": [
    "# Requirements\n",
    "\n",
    "To pass this HW, you must meet the following requirements\n",
    "\n",
    "1. Your function should return the covariance between 6 pairs of random variables: $(X,Y), (X, Z), (Y, Z), (X, X), (Y, Y), and (Z, Z)$\n",
    "1. Verify that your function's return value is correct by using `np.cov(DATA)` where `DATA` is the return value of your covariance function\n",
    "1. Verify that your covariance function for each variable with itself returns the same value as `np.var` of that variable\n",
    "\n",
    "## Stretch Challenges\n",
    "\n",
    "These are optional challenges for those who want to further expand their skillset:\n",
    "\n",
    "1. Your function should display the covariance in a matrix format"
   ]
  },
  {
   "cell_type": "markdown",
   "metadata": {},
   "source": [
    "## Turning In Your HW\n",
    "\n",
    "Once you have finished your assignment, provide a link to your repo on GitHub and place the link in the appropriate `HW1` column in the [progress tracker](https://docs.google.com/spreadsheets/d/1bJ959aAhQbuJBA_vL1uinDgcEM6k7uROHLg_Wh5Ac2Y/edit?usp=sharing)"
   ]
  }
 ],
 "metadata": {
  "hide_input": false,
  "kernelspec": {
   "display_name": "Python 3",
   "language": "python",
   "name": "python3"
  },
  "language_info": {
   "codemirror_mode": {
    "name": "ipython",
    "version": 3
   },
   "file_extension": ".py",
   "mimetype": "text/x-python",
   "name": "python",
   "nbconvert_exporter": "python",
   "pygments_lexer": "ipython3",
   "version": "3.7.5"
  },
  "toc": {
   "base_numbering": 1,
   "nav_menu": {},
   "number_sections": false,
   "sideBar": true,
   "skip_h1_title": false,
   "title_cell": "Table of Contents",
   "title_sidebar": "Contents",
   "toc_cell": false,
   "toc_position": {},
   "toc_section_display": true,
   "toc_window_display": true
  }
 },
 "nbformat": 4,
 "nbformat_minor": 2
}
