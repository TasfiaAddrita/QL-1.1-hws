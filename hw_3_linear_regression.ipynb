{
 "cells": [
  {
   "cell_type": "markdown",
   "metadata": {},
   "source": [
    "# Submission under Part 2"
   ]
  },
  {
   "cell_type": "markdown",
   "metadata": {},
   "source": [
    "# HW3 - R-Squared for Linear Regression\n",
    "\n",
    "## Review\n",
    "\n",
    "- Recall the running distance and drinking water dataset example\n",
    "- Whenever we refer to `x` or `y` in this assignment, we are referring to the below datasets"
   ]
  },
  {
   "cell_type": "code",
   "execution_count": 2,
   "metadata": {},
   "outputs": [
    {
     "data": {
      "text/plain": [
       "Text(0, 0.5, 'Water Drinks (Litre)')"
      ]
     },
     "execution_count": 2,
     "metadata": {},
     "output_type": "execute_result"
    },
    {
     "data": {
      "image/png": "[encoded data removed]",
      "text/plain": [
       "<Figure size 432x288 with 1 Axes>"
      ]
     },
     "metadata": {
      "needs_background": "light"
     },
     "output_type": "display_data"
    }
   ],
   "source": [
    "import numpy as np\n",
    "import matplotlib.pyplot as plt\n",
    "\n",
    "# Running dataset - Distance in Mile\n",
    "x = np.array([3.3,4.4,5.5,6.71,6.93,4.168,9.779,6.182,7.59,2.167,\n",
    "                         7.042,10.791,5.313,7.997,5.654,9.27,3.1])\n",
    "\n",
    "# Water dataset -  Drinks in Litre\n",
    "y = np.array([1.7,2.76,2.09,3.19,1.694,1.573,3.366,2.596,2.53,1.221,\n",
    "                         2.827,3.465,1.65,2.904,2.42,2.94,1.3])\n",
    "\n",
    "plt.scatter(x, y)\n",
    "plt.xlabel('Running Distance (Mile)')\n",
    "plt.ylabel('Water Drinks (Litre)')"
   ]
  },
  {
   "cell_type": "markdown",
   "metadata": {},
   "source": [
    "## Problem to Solve: Obtain the R-squared for this best line\n",
    "\n",
    "### Goal of Linear Regression\n",
    "\n",
    "- We are interested in obtaining the best line described by `y_pred[i] = w_1 * x[i] + w_0` that maps running distance to drinking water\n",
    "\n",
    "- Assume we know that we have obtained the best line when:\n",
    "\n",
    "    - `w_1 = 0.25163494`\n",
    "    \n",
    "    - `w_0 = 0.79880123`"
   ]
  },
  {
   "cell_type": "code",
   "execution_count": 5,
   "metadata": {},
   "outputs": [
    {
     "data": {
      "text/plain": [
       "[<matplotlib.lines.Line2D at 0x123e13dd8>]"
      ]
     },
     "execution_count": 5,
     "metadata": {},
     "output_type": "execute_result"
    },
    {
     "data": {
      "image/png": "[encoded data removed]",
      "text/plain": [
       "<Figure size 432x288 with 1 Axes>"
      ]
     },
     "metadata": {},
     "output_type": "display_data"
    }
   ],
   "source": [
    "w_1 = 0.25163494\n",
    "w_0 = 0.79880123\n",
    "y_pred = [w_1*i+w_0 for i in x]\n",
    "plt.scatter(x, y)\n",
    "plt.plot(x, y_pred, 'ro-')"
   ]
  },
  {
   "cell_type": "markdown",
   "metadata": {},
   "source": [
    "### Part 1\n",
    "\n",
    "- First read this [wiki page](https://en.wikipedia.org/wiki/Coefficient_of_determination#Definitions) about R-squared. The relevent section is also show below in the screenshot.\n",
    "- Note that in this article, $f_i = y_{pred}[i]$: \n",
    "\n",
    "    <img src=\"r_squared.png\" width=\"800\" height=\"800\">\n",
    "\n",
    "### Part 2\n",
    "\n",
    "- Write a Python function that computes R-squared for our distance and drinking water datasets (shown at the top of this page) when  `w_1 = 0.25163494` and  `w_0 = 0.79880123`  "
   ]
  },
  {
   "cell_type": "code",
   "execution_count": 5,
   "metadata": {},
   "outputs": [
    {
     "name": "stdout",
     "output_type": "stream",
     "text": [
      "0.692876030278359\n"
     ]
    }
   ],
   "source": [
    "# Hint: Your function takes four parameters:\n",
    "    # - x (dataset: array of floats)\n",
    "    # - y (dataset: array of floats)\n",
    "    # - w_0 (weight: float)\n",
    "    # - w_1 (weight: float)\n",
    "# and will return the R-squared value\n",
    "\n",
    "def r_sq(y, x, w1, w0):\n",
    "    y_bar  = np.mean(y)\n",
    "    y_pred = [w1 * i + w0 for i in x]\n",
    "    SS_res = sum([(y[i] - y_pred[i])**2 for i in range(len(y))])\n",
    "    SS_tot = sum([(i - y_bar)**2 for i in y])\n",
    "    return 1- SS_res/SS_tot\n",
    "\n",
    "print(r_sq(y, x, 0.25163494, 0.79880123))"
   ]
  },
  {
   "cell_type": "code",
   "execution_count": 6,
   "metadata": {},
   "outputs": [
    {
     "name": "stdout",
     "output_type": "stream",
     "text": [
      "r-squared: 0.6928760302783604\n"
     ]
    }
   ],
   "source": [
    "# Verify that your function works correctly\n",
    "\n",
    "from scipy import stats\n",
    "\n",
    "slope, intercept, r_value, p_value, std_err = stats.linregress(x, y)\n",
    "\n",
    "print(\"r-squared:\", r_value**2)"
   ]
  },
  {
   "cell_type": "markdown",
   "metadata": {},
   "source": [
    "## Requirements\n",
    "\n",
    "To pass this assignment, you must meet the following requirements:\n",
    "\n",
    "1. For the given `x` and `y` datasets and the `w_0` and `w_1` values mentioned above, you must find the R-squared value\n",
    "1. Your answer matches the R-squared value from using the `scipy.stats` library with 0.0001 precision\n",
    "\n",
    "## Turning In Your HW\n",
    "\n",
    "Once you have finished your assignment, provide a link to your repo on GitHub and place the link in the appropriate HW3 column in the progress tracker. See the syllabus for more details on submission links"
   ]
  }
 ],
 "metadata": {
  "hide_input": false,
  "kernelspec": {
   "display_name": "Python 3",
   "language": "python",
   "name": "python3"
  },
  "language_info": {
   "codemirror_mode": {
    "name": "ipython",
    "version": 3
   },
   "file_extension": ".py",
   "mimetype": "text/x-python",
   "name": "python",
   "nbconvert_exporter": "python",
   "pygments_lexer": "ipython3",
   "version": "3.7.5"
  },
  "toc": {
   "base_numbering": 1,
   "nav_menu": {},
   "number_sections": false,
   "sideBar": true,
   "skip_h1_title": false,
   "title_cell": "Table of Contents",
   "title_sidebar": "Contents",
   "toc_cell": false,
   "toc_position": {},
   "toc_section_display": true,
   "toc_window_display": true
  }
 },
 "nbformat": 4,
 "nbformat_minor": 2
}
